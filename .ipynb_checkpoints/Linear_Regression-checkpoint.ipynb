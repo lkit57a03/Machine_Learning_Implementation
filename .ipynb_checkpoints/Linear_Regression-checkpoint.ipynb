{
 "cells": [
  {
   "cell_type": "code",
   "execution_count": 47,
   "metadata": {},
   "outputs": [],
   "source": [
    "from numpy import *"
   ]
  },
  {
   "cell_type": "code",
   "execution_count": 48,
   "metadata": {},
   "outputs": [],
   "source": [
    "def compute_error_for_line_given_points(b,m,points):\n",
    "    #initialize error at 0\n",
    "    totalError = 0\n",
    "    #for every points calculate the difference\n",
    "    for i in range(0,len(points)):\n",
    "        #get the x values from points\n",
    "        x = points[i,0]\n",
    "        #get the y values from points\n",
    "        y = points[i,1]\n",
    "        #get the difference, square it, add it to the total\n",
    "        totalError += (y - (m*x + b)) ** 2\n",
    "    return totalError/float(len(points))"
   ]
  },
  {
   "cell_type": "code",
   "execution_count": 49,
   "metadata": {},
   "outputs": [],
   "source": [
    "def step_gradient(b_current, m_current, points, learningRate):\n",
    "    #startind points for our gradients\n",
    "    b_gradient = 0 \n",
    "    m_gradient = 0\n",
    "    n = float(len(points))\n",
    "    for i in range(0, len(points)):\n",
    "        x = points[i, 0]\n",
    "        y = points[i, 1]\n",
    "        #direction with respect to b and m\n",
    "        #computing partial derivatives of our error function\n",
    "            \n",
    "        b_gradient += -(2/n) * (y - ((m_current * x) + b_current))\n",
    "        m_gradient +=  -(2/n) * x * (y - ((m_current * x) + b_current))\n",
    "    new_b = b_current - (learningRate * b_gradient)\n",
    "    new_m = m_current - (learningRate * m_gradient)\n",
    "    return [new_b, new_m]\n",
    "        "
   ]
  },
  {
   "cell_type": "code",
   "execution_count": 50,
   "metadata": {},
   "outputs": [],
   "source": [
    "def gradient_decent_runner(points, starting_b, starting_m, learning_rate, num_iterations):\n",
    "    #starting b and m\n",
    "    b = starting_b\n",
    "    m = starting_m\n",
    "    \n",
    "    #gradient descent\n",
    "    for i in range(num_iterations):\n",
    "        #update ba nd m with the new more accurate ba and m by performing\n",
    "        #this gradient step\n",
    "        b, m = step_gradient(b, m, array(points), learning_rate)\n",
    "    return [b,m]"
   ]
  },
  {
   "cell_type": "code",
   "execution_count": 51,
   "metadata": {},
   "outputs": [],
   "source": [
    "def run():\n",
    "    #Step 1: Colect the data.\n",
    "    points = genfromtxt('data.csv',delimiter=',')\n",
    "    \n",
    "    #Step 2: Define our hypreparamters\n",
    "    #How fast should it converge\n",
    "    learning_rate = 0.0001\n",
    "    #y = mx + b - Slope formula\n",
    "    initial_b = 0\n",
    "    initial_m = 0\n",
    "    num_iteration = 1000\n",
    "    \n",
    "    #Step 3 - train our model\n",
    "    print('Starting gradient descent at b = {0},m={1},error={2}'.format(initial_b,initial_m,compute_error_for_line_given_points(initial_b,initial_m,points)))    \n",
    "    [b, m] = gradient_decent_runner(points,initial_b,initial_m,learning_rate,num_iteration)\n",
    "    print('At Ending gradient descent at b = {0},m={1},error={2}'.format(b,m,compute_error_for_line_given_points(b,m,points)))    \n",
    "    "
   ]
  },
  {
   "cell_type": "code",
   "execution_count": 52,
   "metadata": {},
   "outputs": [
    {
     "name": "stdout",
     "output_type": "stream",
     "text": [
      "Starting gradient descent at b = 0,m=0,error=5565.107834483211\n",
      "At Ending gradient descent at b = 0.08893651993741346,m=1.4777440851894448,error=112.61481011613473\n"
     ]
    }
   ],
   "source": [
    "run()"
   ]
  },
  {
   "cell_type": "code",
   "execution_count": null,
   "metadata": {},
   "outputs": [],
   "source": []
  },
  {
   "cell_type": "code",
   "execution_count": null,
   "metadata": {},
   "outputs": [],
   "source": []
  }
 ],
 "metadata": {
  "kernelspec": {
   "display_name": "Python 3",
   "language": "python",
   "name": "python3"
  },
  "language_info": {
   "codemirror_mode": {
    "name": "ipython",
    "version": 3
   },
   "file_extension": ".py",
   "mimetype": "text/x-python",
   "name": "python",
   "nbconvert_exporter": "python",
   "pygments_lexer": "ipython3",
   "version": "3.7.1"
  }
 },
 "nbformat": 4,
 "nbformat_minor": 2
}
